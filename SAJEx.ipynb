{
 "cells": [
  {
   "cell_type": "code",
   "execution_count": 9,
   "metadata": {},
   "outputs": [],
   "source": [
    "import math\n",
    "import matplotlib as mpl\n",
    "import ipywidgets as widgets\n",
    "import matplotlib.pyplot as plt\n",
    "from IPython.display import display\n",
    "import json\n",
    "import base64\n",
    "import os\n",
    "import sys"
   ]
  },
  {
   "attachments": {},
   "cell_type": "markdown",
   "metadata": {},
   "source": [
    "# Smoothed Armchair Graphene Nanoribbon Junctions Explorer\n",
    "\n",
    "As Moore's law approaches its fundamental limits, the development of nanoelectronic devices using low-dimension materials has become a promising avenue for further miniaturization and performance improvements. Among the various novel materials, graphene nanoribbons (GNRs) have emerged as particularly attractive candidates due to their unique electronic properties. However, the design of efficient nanoelectronic components with a minimal spatial footprint remains a significant challenge. This tool allows to explore a wide dataset of GNR junctions and investigate various strategies for designing optimal-sized interconnects. For each set of parameters, the tool will provide various informations about the junction's electronic properties. All the raw data can then be downloaded for further analysis.\n",
    "\n",
    "If you use this tool, please cite the following works:\n",
    "\n",
    "* **J. Leuenberger, K. Cernevics, O. V. Yazyev, Optimizing Nanoelectronics Footprint by Rounding Graphene Nanoribbon Junctions**\n",
    "* **J. Leuenberger, K. Cernevics, O. V. Yazyev, Smoothed Armchair Graphene Nanoribbon Junctions Explorer (SAJEx), doi:10.tbd/tbd**"
   ]
  },
  {
   "cell_type": "code",
   "execution_count": 10,
   "metadata": {},
   "outputs": [],
   "source": [
    "path = \"./data\" if os.path.isdir(\"./data\") else \"/data\"\n",
    "# print(f\"Path: {path}\")"
   ]
  },
  {
   "cell_type": "code",
   "execution_count": 11,
   "metadata": {},
   "outputs": [],
   "source": [
    "def get_wext_max(N_value):\n",
    "    security = 1\n",
    "    return math.floor(N_value / 2) - 1 - security\n",
    "\n",
    "def get_N_min(wext_value):\n",
    "    for N in range(20, 80+1, 3):\n",
    "        if get_wext_max(N) >= wext_value:\n",
    "            return N"
   ]
  },
  {
   "cell_type": "code",
   "execution_count": 12,
   "metadata": {},
   "outputs": [],
   "source": [
    "shape = widgets.Dropdown(options=['armchair', 'round', 'zigzag'], value='armchair', description='shape')\n",
    "N = widgets.IntSlider(min=20, max=80, step=3, description=\"N\")\n",
    "wext = widgets.IntSlider(min=0, max=get_wext_max(N.value), step=1, description=\"wₑₓₜ\")\n",
    "a_ratio = widgets.FloatText(value=-1, description='Armchair ratio [%]', disabled=True)\n",
    "z_ratio = widgets.FloatText(value=-1, description='Zigzag ratio [%]', disabled=True)\n",
    "tau_around_0p00_ev = widgets.FloatText(value=-1, description='τ @ 0.00 eV', disabled=True)\n",
    "tau_around_0p01_ev = widgets.FloatText(value=-1, description='τ @ 0.01 eV', disabled=True)\n",
    "tau_around_0p10_ev = widgets.FloatText(value=-1, description='τ @ 0.10 eV', disabled=True)\n",
    "\n",
    "html_button_summary = widgets.HTML(value=\"\"\"<html>\n",
    "<head>\n",
    "<meta name=\"viewport\" content=\"width=device-width, initial-scale=1\">\n",
    "</head>\n",
    "<body>\n",
    "<a download=\"\" href=\"data:text/json;base64,\" download>\n",
    "<button class=\"p-Widget jupyter-widgets jupyter-button widget-button\" disabled>-</button>\n",
    "</a>\n",
    "</body>\n",
    "</html>\n",
    "\"\"\")\n",
    "\n",
    "html_button_conductance = widgets.HTML(value=\"\"\"<html>\n",
    "<head>\n",
    "<meta name=\"viewport\" content=\"width=device-width, initial-scale=1\">\n",
    "</head>\n",
    "<body>\n",
    "<a download=\"\" href=\"data:text/json;base64,\" download>\n",
    "<button class=\"p-Widget jupyter-widgets jupyter-button widget-button\" disabled>-</button>\n",
    "</a>\n",
    "</body>\n",
    "</html>\n",
    "\"\"\")\n",
    "\n",
    "html_button_vertices = widgets.HTML(value=\"\"\"<html>\n",
    "<head>\n",
    "<meta name=\"viewport\" content=\"width=device-width, initial-scale=1\">\n",
    "</head>\n",
    "<body>\n",
    "<a download=\"\" href=\"data:text/json;base64,\" download>\n",
    "<button class=\"p-Widget jupyter-widgets jupyter-button widget-button\" disabled>-</button>\n",
    "</a>\n",
    "</body>\n",
    "</html>\n",
    "\"\"\")\n",
    "\n",
    "\n",
    "html_button_edges = widgets.HTML(value=\"\"\"<html>\n",
    "<head>\n",
    "<meta name=\"viewport\" content=\"width=device-width, initial-scale=1\">\n",
    "</head>\n",
    "<body>\n",
    "<a download=\"\" href=\"data:text/json;base64,\" download>\n",
    "<button class=\"p-Widget jupyter-widgets jupyter-button widget-button\" disabled>-</button>\n",
    "</a>\n",
    "</body>\n",
    "</html>\n",
    "\"\"\")"
   ]
  },
  {
   "cell_type": "code",
   "execution_count": 13,
   "metadata": {},
   "outputs": [],
   "source": [
    "def update_image(shape, N, r):\n",
    "    fig, axs = plt.subplots(ncols=4, nrows=1, figsize=(19.2, 4.8), dpi=100)\n",
    "    try:\n",
    "        axs[0].imshow(mpl.image.imread(f\"{path}/shape={shape}/N={N}/wext={r}/edge.png\"))\n",
    "        axs[1].imshow(mpl.image.imread(f\"{path}/shape={shape}/N={N}/wext={r}/conductance.png\"))\n",
    "        axs[2].imshow(mpl.image.imread(f\"{path}/shape={shape}/N={N}/wext={r}/ldos.png\"))\n",
    "        axs[3].imshow(mpl.image.imread(f\"{path}/shape={shape}/N={N}/wext={r}/current.png\"))\n",
    "        for ax in axs.ravel():\n",
    "            ax.axis(\"off\")\n",
    "            ax.set_xticks([])\n",
    "            ax.set_yticks([])\n",
    "            ax.set_anchor('S')\n",
    "        plt.subplots_adjust(wspace=-0.05, hspace=0)\n",
    "    except Exception as e:\n",
    "        print(e)\n",
    "        # plt.close()\n",
    "        # print(f\"Missing data !\")\n",
    "        pass\n",
    "    \n",
    "def update_wext_max(*args):\n",
    "    wext_current = wext.value\n",
    "    wext_max = get_wext_max(N.value)\n",
    "    if wext_current > wext_max:\n",
    "        wext.value = wext_max\n",
    "    wext.max = wext_max\n",
    "    \n",
    "def update_N_min(*args):\n",
    "    N_current = N.value\n",
    "    N_min = get_N_min(wext.value)\n",
    "    if N_current < N_min:\n",
    "        N.value = N_min\n",
    "    N.min = N_min\n",
    "\n",
    "def update_texts(change):\n",
    "    try:\n",
    "        infos = json.load(open(f\"{path}/shape={shape.value}/N={N.value}/wext={wext.value}/summary.json\"))\n",
    "        a_ratio.value = infos[\"armchair_ratio\"]\n",
    "        z_ratio.value = infos[\"zigzag_ratio\"]\n",
    "        tau_around_0p00_ev.value = infos[\"tau_around_0p00_ev\"]\n",
    "        tau_around_0p01_ev.value = infos[\"tau_around_0p01_ev\"]\n",
    "        tau_around_0p10_ev.value = infos[\"tau_around_0p10_ev\"]\n",
    "    except Exception as e:\n",
    "        print(e)\n",
    "        pass\n",
    "\n",
    "def update_downloadbutton(*args):\n",
    "    \n",
    "    base_html = \"\"\"<html>\n",
    "    <head>\n",
    "    <meta name=\"viewport\" content=\"width=device-width, initial-scale=1\">\n",
    "    </head>\n",
    "    <body>\n",
    "    <a download=\"FILENAME\" href=\"data:text/json;base64,PAYLOAD\" download>\n",
    "    <button class=\"p-Widget jupyter-widgets jupyter-button widget-button\">TEXT</button>\n",
    "    </a>\n",
    "    </body>\n",
    "    </html>\"\"\"\n",
    "\n",
    "    res = open(f\"{path}/shape={shape.value}/N={N.value}/wext={wext.value}/summary.json\").read()\n",
    "    b64 = base64.b64encode(res.encode())\n",
    "    payload = b64.decode().replace(\"\\\"\", \"`\")\n",
    "    filename = f\"summary_shape={shape.value}_N={N.value}_wext={wext.value}.json\"\n",
    "    html_button_summary.value = base_html.replace(\"FILENAME\", filename).replace(\"PAYLOAD\", payload).replace(\"TEXT\", f\"Summary (JSON, {sys.getsizeof(payload)/1024:.1f} ko)\")\n",
    "\n",
    "    res = open(f\"{path}/shape={shape.value}/N={N.value}/wext={wext.value}/conductance.csv\").read()\n",
    "    b64 = base64.b64encode(res.encode())\n",
    "    payload = b64.decode().replace(\"\\\"\", \"`\")\n",
    "    filename = f\"conductance_shape={shape.value}_N={N.value}_wext={wext.value}.csv\"\n",
    "    html_button_conductance.value = base_html.replace(\"FILENAME\", filename).replace(\"PAYLOAD\", payload).replace(\"TEXT\", f\"Conductance (CSV, {sys.getsizeof(payload)/1024:.1f} ko)\")\n",
    "\n",
    "    res = open(f\"{path}/shape={shape.value}/N={N.value}/wext={wext.value}/vertices.csv\").read()\n",
    "    b64 = base64.b64encode(res.encode())\n",
    "    payload = b64.decode().replace(\"\\\"\", \"`\")\n",
    "    filename = f\"vertices_shape={shape.value}_N={N.value}_wext={wext.value}.csv\"\n",
    "    html_button_vertices.value = base_html.replace(\"FILENAME\", filename).replace(\"PAYLOAD\", payload).replace(\"TEXT\", f\"Vertices (CSV, {sys.getsizeof(payload)/1024:.1f} ko)\")\n",
    "\n",
    "    res = open(f\"{path}/shape={shape.value}/N={N.value}/wext={wext.value}/edges.csv\").read()\n",
    "    b64 = base64.b64encode(res.encode())\n",
    "    payload = b64.decode().replace(\"\\\"\", \"`\")\n",
    "    filename = f\"edges_shape={shape.value}_N={N.value}_wext={wext.value}.csv\"\n",
    "    html_button_edges.value = base_html.replace(\"FILENAME\", filename).replace(\"PAYLOAD\", payload).replace(\"TEXT\", f\"Edges (CSV, {sys.getsizeof(payload)/1024:.1f} ko)\")\n"
   ]
  },
  {
   "attachments": {},
   "cell_type": "markdown",
   "metadata": {},
   "source": [
    "## Inputs\n",
    "\n",
    "In order to investigate the strategies for designing a GNR junction, the following parameters can be chosen:\n",
    "\n",
    "* **shape** corresponds to the junction's tip as material is removed. This can either be \"armchair\" which maximises the amount of armchair edges, \"zigzag\" which maximises the amount of zigzag edges, or \"round\" which is an in-between.\n",
    "* **N** is the width of the GNRs, in number of atom layers. Allowed values are **N** $\\in[5, 80]$. Note that only metallic GNRs are considered, i.e. **N** $=3n+2$.\n",
    "* **wₑₓₜ** is the smoothening parameter and quantifies the amount of material removed. The larger **wₑₓₜ**, the more predominant **shape** will be."
   ]
  },
  {
   "cell_type": "code",
   "execution_count": 14,
   "metadata": {},
   "outputs": [
    {
     "data": {
      "application/vnd.jupyter.widget-view+json": {
       "model_id": "6a7becc6112343a99ad597a1c9ae7139",
       "version_major": 2,
       "version_minor": 0
      },
      "text/plain": [
       "interactive(children=(Dropdown(description='shape', options=('armchair', 'round', 'zigzag'), value='armchair')…"
      ]
     },
     "metadata": {},
     "output_type": "display_data"
    }
   ],
   "source": [
    "shape.observe(update_texts, names='value')\n",
    "N.observe(update_texts, names='value')\n",
    "wext.observe(update_texts, names='value')\n",
    "\n",
    "N.observe(update_wext_max, names='value')\n",
    "wext.observe(update_N_min, names='value')\n",
    "\n",
    "shape.observe(update_downloadbutton, names='value')\n",
    "N.observe(update_downloadbutton, names='value')\n",
    "wext.observe(update_downloadbutton, names='value')\n",
    "\n",
    "display(widgets.interactive(update_image, shape=shape, N=N, r=wext))"
   ]
  },
  {
   "attachments": {},
   "cell_type": "markdown",
   "metadata": {},
   "source": [
    "## Numerical informations\n",
    "\n",
    "In the following, a summary of numerical informations is displayed."
   ]
  },
  {
   "cell_type": "code",
   "execution_count": 15,
   "metadata": {},
   "outputs": [
    {
     "data": {
      "application/vnd.jupyter.widget-view+json": {
       "model_id": "e850d38d7813468197dc8c75e1806121",
       "version_major": 2,
       "version_minor": 0
      },
      "text/plain": [
       "VBox(children=(FloatText(value=-1.0, description='Armchair ratio [%]', disabled=True), FloatText(value=-1.0, d…"
      ]
     },
     "metadata": {},
     "output_type": "display_data"
    }
   ],
   "source": [
    "display(\n",
    "    widgets.VBox([\n",
    "        a_ratio,\n",
    "        z_ratio,\n",
    "        tau_around_0p00_ev,\n",
    "        tau_around_0p01_ev,\n",
    "        tau_around_0p10_ev,\n",
    "    ]),\n",
    ")"
   ]
  },
  {
   "attachments": {},
   "cell_type": "markdown",
   "metadata": {},
   "source": [
    "## Download\n",
    "\n",
    "Here you can download informations about the junction.\n",
    "* **Summary** contains informations about the junction's geometry, edge structure and preserved conductance at different energy windows.\n",
    "* **Conductance** contains the conductance [$G_0$] of the junction at different energies [$\\mathrm{eV}$].\n",
    "* **Vertices** contains a list of the junction's vertices' positions [$\\sqrt{3}a$], as well as the local density of states (LDOS) at each vertex.\n",
    "* **Edges** contains a list of the junction's edges, as well as the probability currents flowing through each edge."
   ]
  },
  {
   "cell_type": "code",
   "execution_count": 16,
   "metadata": {},
   "outputs": [
    {
     "data": {
      "application/vnd.jupyter.widget-view+json": {
       "model_id": "b0b96b0f09564df3833da071fcfe1946",
       "version_major": 2,
       "version_minor": 0
      },
      "text/plain": [
       "HBox(children=(HTML(value='<html>\\n<head>\\n<meta name=\"viewport\" content=\"width=device-width, initial-scale=1\"…"
      ]
     },
     "metadata": {},
     "output_type": "display_data"
    }
   ],
   "source": [
    "display(\n",
    "    widgets.HBox([\n",
    "    html_button_summary,\n",
    "    html_button_conductance,\n",
    "    html_button_vertices,\n",
    "    html_button_edges,\n",
    "    ]))"
   ]
  },
  {
   "cell_type": "code",
   "execution_count": null,
   "metadata": {},
   "outputs": [],
   "source": []
  }
 ],
 "metadata": {
  "kernelspec": {
   "display_name": "base",
   "language": "python",
   "name": "python3"
  },
  "language_info": {
   "codemirror_mode": {
    "name": "ipython",
    "version": 3
   },
   "file_extension": ".py",
   "mimetype": "text/x-python",
   "name": "python",
   "nbconvert_exporter": "python",
   "pygments_lexer": "ipython3",
   "version": "3.10.11"
  }
 },
 "nbformat": 4,
 "nbformat_minor": 4
}
