{
 "cells": [
  {
   "cell_type": "code",
   "execution_count": 1,
   "metadata": {},
   "outputs": [],
   "source": [
    "import math\n",
    "import matplotlib as mpl\n",
    "import ipywidgets as widgets\n",
    "import matplotlib.pyplot as plt\n",
    "from IPython.display import display\n",
    "import json\n",
    "import base64\n",
    "import os\n",
    "import sys"
   ]
  },
  {
   "attachments": {},
   "cell_type": "markdown",
   "metadata": {},
   "source": [
    "# Smoothed Armchair Graphene Nanoribbon Junctions Explorer\n",
    "\n",
    "As Moore's law approaches its fundamental limits, the development of nanoelectronic devices using low-dimension materials has become a promising avenue for further miniaturization and performance improvements. Among the various novel materials, graphene nanoribbons (GNRs) have emerged as particularly attractive candidates due to their unique electronic properties. However, the design of efficient nanoelectronic components with a minimal spatial footprint remains a significant challenge. This tool allows to explore a wide dataset of GNR junctions and investigate various strategies for designing optimal-sized interconnects. For each set of parameters, the tool will provide various informations about the junction's electronic properties. All the raw data can then be downloaded for further analysis.\n",
    "\n",
    "If you use this tool, please cite the following works:\n",
    "\n",
    "* **J. Leuenberger, K. Cernevics, O. V. Yazyev, Optimizing Nanoelectronics Footprint by Rounding Graphene Nanoribbon Junctions**\n",
    "* **J. Leuenberger, K. Cernevics, O. V. Yazyev, Smoothed Armchair Graphene Nanoribbon Junctions Explorer (SAJEx), doi:10.tbd/tbd**"
   ]
  },
  {
   "cell_type": "code",
   "execution_count": 2,
   "metadata": {},
   "outputs": [],
   "source": [
    "path = \"./data\" if os.path.isdir(\"./data\") else \"/data\"\n",
    "descriptions_width = '150px'\n",
    "contents_width = '450px'\n",
    "buttons_width = '450px'"
   ]
  },
  {
   "cell_type": "code",
   "execution_count": 3,
   "metadata": {},
   "outputs": [],
   "source": [
    "def get_wext_max(N_value):\n",
    "    security = 1\n",
    "    return math.floor(N_value / 2) - 1 - security\n",
    "\n",
    "def get_N_min(wext_value):\n",
    "    for N in range(20, 80+1, 3):\n",
    "        if get_wext_max(N) >= wext_value:\n",
    "            return N"
   ]
  },
  {
   "cell_type": "code",
   "execution_count": 4,
   "metadata": {},
   "outputs": [],
   "source": [
    "shape = widgets.Dropdown(options=['armchair', 'round', 'zigzag'], value='armchair', description='shape', style={'description_width': descriptions_width}, layout=widgets.Layout(width=contents_width))\n",
    "N = widgets.IntSlider(min=20, max=80, step=3, description=\"N\", style={'description_width': descriptions_width}, layout=widgets.Layout(width=contents_width))\n",
    "wext = widgets.IntSlider(min=0, max=get_wext_max(N.value), step=1, description=\"wₑₓₜ\", style={'description_width': descriptions_width}, layout=widgets.Layout(width=contents_width))\n",
    "a_ratio = widgets.Text(value=\"\", description='Armchair ratio', disabled=False, style={'description_width': descriptions_width}, layout=widgets.Layout(width=contents_width))\n",
    "z_ratio = widgets.Text(value=\"\", description='Zigzag ratio', disabled=False, style={'description_width': descriptions_width}, layout=widgets.Layout(width=contents_width))\n",
    "tau_around_0p00_ev = widgets.Text(value=\"\", description='τ @ 0.00 eV', disabled=False, style={'description_width': descriptions_width}, layout=widgets.Layout(width=contents_width))\n",
    "tau_around_0p01_ev = widgets.Text(value=\"\", description='τ @ 0.01 eV', disabled=False, style={'description_width': descriptions_width}, layout=widgets.Layout(width=contents_width))\n",
    "tau_around_0p10_ev = widgets.Text(value=\"\", description='τ @ 0.10 eV', disabled=False, style={'description_width': descriptions_width}, layout=widgets.Layout(width=contents_width))\n",
    "\n",
    "html_button_summary = widgets.HTML(value=\"\"\"<html>\n",
    "<head>\n",
    "<meta name=\"viewport\" content=\"width=device-width, initial-scale=1\">\n",
    "</head>\n",
    "<body>\n",
    "<a download=\"\" href=\"data:text/json;base64,\" download>\n",
    "<button class=\"p-Widget jupyter-widgets jupyter-button widget-button\" disabled>-</button>\n",
    "</a>\n",
    "</body>\n",
    "</html>\n",
    "\"\"\", layout=widgets.Layout(width=buttons_width))\n",
    "\n",
    "html_button_conductance = widgets.HTML(value=\"\"\"<html>\n",
    "<head>\n",
    "<meta name=\"viewport\" content=\"width=device-width, initial-scale=1\">\n",
    "</head>\n",
    "<body>\n",
    "<a download=\"\" href=\"data:text/json;base64,\" download>\n",
    "<button class=\"p-Widget jupyter-widgets jupyter-button widget-button\" disabled>-</button>\n",
    "</a>\n",
    "</body>\n",
    "</html>\n",
    "\"\"\", layout=widgets.Layout(width=buttons_width))\n",
    "\n",
    "html_button_vertices = widgets.HTML(value=\"\"\"<html>\n",
    "<head>\n",
    "<meta name=\"viewport\" content=\"width=device-width, initial-scale=1\">\n",
    "</head>\n",
    "<body>\n",
    "<a download=\"\" href=\"data:text/json;base64,\" download>\n",
    "<button class=\"p-Widget jupyter-widgets jupyter-button widget-button\" disabled>-</button>\n",
    "</a>\n",
    "</body>\n",
    "</html>\n",
    "\"\"\", layout=widgets.Layout(width=buttons_width))\n",
    "\n",
    "\n",
    "html_button_edges = widgets.HTML(value=\"\"\"<html>\n",
    "<head>\n",
    "<meta name=\"viewport\" content=\"width=device-width, initial-scale=1\">\n",
    "</head>\n",
    "<body>\n",
    "<a download=\"\" href=\"data:text/json;base64,\" download>\n",
    "<button class=\"p-Widget jupyter-widgets jupyter-button widget-button\" disabled>-</button>\n",
    "</a>\n",
    "</body>\n",
    "</html>\n",
    "\"\"\", layout=widgets.Layout(width=buttons_width))\n",
    "\n",
    "\n",
    "\n",
    "html_images = widgets.HTML(\n",
    "value=\"\"\"<html>\n",
    "<head>\n",
    "<meta name=\"viewport\" content=\"width=device-width, initial-scale=1\">\n",
    "</head>\n",
    "<body>\n",
    "<table>\n",
    "<tr>\n",
    "<td>\n",
    "<img src=\"data:image/png;base64,IMAGE1\" width=\"100%\">\n",
    "</td>\n",
    "<td>\n",
    "<img src=\"data:image/png;base64,IMAGE2\" width=\"100%\">\n",
    "</td>\n",
    "<td>\n",
    "<img src=\"data:image/png;base64,IMAGE3\" width=\"100%\">\n",
    "</td>\n",
    "<td>\n",
    "<img src=\"data:image/png;base64,IMAGE4\" width=\"100%\">\n",
    "</td>\n",
    "</tr>\n",
    "</table>\n",
    "</body>\n",
    "</html>\"\"\")\n",
    "\n"
   ]
  },
  {
   "cell_type": "code",
   "execution_count": 5,
   "metadata": {},
   "outputs": [],
   "source": [
    "def update_image(shape, N, r):\n",
    "    # TODO : rework this function or remove it if not necessary\n",
    "    return\n",
    "    fig, axs = plt.subplots(ncols=4, nrows=1, figsize=(19.2, 4.8), dpi=100)\n",
    "    try:\n",
    "        axs[0].imshow(mpl.image.imread(f\"{path}/shape={shape}/N={N}/wext={r}/edge.png\"))\n",
    "        axs[1].imshow(mpl.image.imread(f\"{path}/shape={shape}/N={N}/wext={r}/conductance.png\"))\n",
    "        axs[2].imshow(mpl.image.imread(f\"{path}/shape={shape}/N={N}/wext={r}/ldos.png\"))\n",
    "        axs[3].imshow(mpl.image.imread(f\"{path}/shape={shape}/N={N}/wext={r}/current.png\"))\n",
    "        for ax in axs.ravel():\n",
    "            ax.axis(\"off\")\n",
    "            ax.set_xticks([])\n",
    "            ax.set_yticks([])\n",
    "            ax.set_anchor('S')\n",
    "        plt.subplots_adjust(wspace=-0.05, hspace=0)\n",
    "    except Exception as e:\n",
    "        print(e)\n",
    "        # plt.close()\n",
    "        # print(f\"Missing data !\")\n",
    "        pass\n",
    "    \n",
    "def update_wext_max(*args):\n",
    "    wext_current = wext.value\n",
    "    wext_max = get_wext_max(N.value)\n",
    "    if wext_current > wext_max:\n",
    "        wext.value = wext_max\n",
    "    wext.max = wext_max\n",
    "    \n",
    "def update_N_min(*args):\n",
    "    N_current = N.value\n",
    "    N_min = get_N_min(wext.value)\n",
    "    if N_current < N_min:\n",
    "        N.value = N_min\n",
    "    N.min = N_min\n",
    "\n",
    "def update_texts(change):\n",
    "    try:\n",
    "        infos = json.load(open(f\"{path}/shape={shape.value}/N={N.value}/wext={wext.value}/summary.json\"))\n",
    "        a_ratio.value = f'{infos[\"armchair_ratio\"]:.1%}'\n",
    "        z_ratio.value = f'{infos[\"zigzag_ratio\"]:.1%}'\n",
    "        tau_around_0p00_ev.value = f'{infos[\"tau_around_0p00_ev\"]:.1%}'\n",
    "        tau_around_0p01_ev.value = f'{infos[\"tau_around_0p01_ev\"]:.1%}'\n",
    "        tau_around_0p10_ev.value = f'{infos[\"tau_around_0p10_ev\"]:.1%}'\n",
    "    except Exception as e:\n",
    "        print(e)\n",
    "        pass\n",
    "\n",
    "def update_downloadbutton(*args):\n",
    "    \n",
    "    base_html = \"\"\"<html>\n",
    "    <head>\n",
    "    <meta name=\"viewport\" content=\"width=device-width, initial-scale=1\">\n",
    "    </head>\n",
    "    <body>\n",
    "    <a download=\"FILENAME\" href=\"data:text/json;base64,PAYLOAD\" download>\n",
    "    <button class=\"p-Widget jupyter-widgets jupyter-button widget-button\" style=\"width: 100%;\">TEXT</button>\n",
    "    </a>\n",
    "    </body>\n",
    "    </html>\"\"\"\n",
    "\n",
    "    res = open(f\"{path}/shape={shape.value}/N={N.value}/wext={wext.value}/summary.json\").read()\n",
    "    b64 = base64.b64encode(res.encode())\n",
    "    payload = b64.decode().replace(\"\\\"\", \"`\")\n",
    "    filename = f\"summary_shape={shape.value}_N={N.value}_wext={wext.value}.json\"\n",
    "    html_button_summary.value = base_html.replace(\"FILENAME\", filename).replace(\"PAYLOAD\", payload).replace(\"TEXT\", f\"Summary (JSON, ~{sys.getsizeof(payload)/1024:.1f} kB)\")\n",
    "\n",
    "    res = open(f\"{path}/shape={shape.value}/N={N.value}/wext={wext.value}/conductance.csv\").read()\n",
    "    b64 = base64.b64encode(res.encode())\n",
    "    payload = b64.decode().replace(\"\\\"\", \"`\")\n",
    "    filename = f\"conductance_shape={shape.value}_N={N.value}_wext={wext.value}.csv\"\n",
    "    html_button_conductance.value = base_html.replace(\"FILENAME\", filename).replace(\"PAYLOAD\", payload).replace(\"TEXT\", f\"Conductance (CSV, ~{sys.getsizeof(payload)/1024:.1f} kB)\")\n",
    "\n",
    "    res = open(f\"{path}/shape={shape.value}/N={N.value}/wext={wext.value}/vertices.csv\").read()\n",
    "    b64 = base64.b64encode(res.encode())\n",
    "    payload = b64.decode().replace(\"\\\"\", \"`\")\n",
    "    filename = f\"vertices_shape={shape.value}_N={N.value}_wext={wext.value}.csv\"\n",
    "    html_button_vertices.value = base_html.replace(\"FILENAME\", filename).replace(\"PAYLOAD\", payload).replace(\"TEXT\", f\"Vertices (CSV, ~{sys.getsizeof(payload)/1024:.1f} kB)\")\n",
    "\n",
    "    res = open(f\"{path}/shape={shape.value}/N={N.value}/wext={wext.value}/edges.csv\").read()\n",
    "    b64 = base64.b64encode(res.encode())\n",
    "    payload = b64.decode().replace(\"\\\"\", \"`\")\n",
    "    filename = f\"edges_shape={shape.value}_N={N.value}_wext={wext.value}.csv\"\n",
    "    html_button_edges.value = base_html.replace(\"FILENAME\", filename).replace(\"PAYLOAD\", payload).replace(\"TEXT\", f\"Edges (CSV, ~{sys.getsizeof(payload)/1024:.1f} kB)\")\n",
    "\n",
    "\n",
    "def update_images(*args):\n",
    "    base_html = \"\"\"<html>\n",
    "    <head>\n",
    "    <meta name=\"viewport\" content=\"width=100%; initial-scale=1;\">\n",
    "    </head>\n",
    "    <body>\n",
    "    <table>\n",
    "    <tr>\n",
    "    <td>\n",
    "    <img src=\"data:image/png;base64,IMAGE1\" width=\"100%\">\n",
    "    </td>\n",
    "    <td>\n",
    "    <img src=\"data:image/png;base64,IMAGE2\" width=\"100%\">\n",
    "    </td>\n",
    "    <td>\n",
    "    <img src=\"data:image/png;base64,IMAGE3\" width=\"100%\">\n",
    "    </td>\n",
    "    <td>\n",
    "    <img src=\"data:image/png;base64,IMAGE4\" width=\"100%\">\n",
    "    </td>\n",
    "    </tr>\n",
    "    </table>\n",
    "    </body>\n",
    "    </html>\"\"\"\n",
    "\n",
    "    img1 = open(f\"{path}/shape={shape.value}/N={N.value}/wext={wext.value}/edge.png\", \"rb\").read()\n",
    "    img1 = base64.b64encode(img1).decode().replace(\"\\\"\", \"`\")\n",
    "    img2 = open(f\"{path}/shape={shape.value}/N={N.value}/wext={wext.value}/conductance.png\", \"rb\").read()\n",
    "    img2 = base64.b64encode(img2).decode().replace(\"\\\"\", \"`\")\n",
    "    img3 = open(f\"{path}/shape={shape.value}/N={N.value}/wext={wext.value}/ldos.png\", \"rb\").read()\n",
    "    img3 = base64.b64encode(img3).decode().replace(\"\\\"\", \"`\")\n",
    "    img4 = open(f\"{path}/shape={shape.value}/N={N.value}/wext={wext.value}/current.png\", \"rb\").read()\n",
    "    img4 = base64.b64encode(img4).decode().replace(\"\\\"\", \"`\")\n",
    "\n",
    "    html_images.value = base_html.replace(\"IMAGE1\", img1).replace(\"IMAGE2\", img2).replace(\"IMAGE3\", img3).replace(\"IMAGE4\", img4)\n",
    "    "
   ]
  },
  {
   "attachments": {},
   "cell_type": "markdown",
   "metadata": {},
   "source": [
    "## Inputs\n",
    "\n",
    "In order to investigate the strategies for designing a GNR junction, the following parameters can be chosen:\n",
    "\n",
    "* **shape** corresponds to the junction's tip as material is removed. This can either be \"armchair\" which maximises the amount of armchair edges, \"zigzag\" which maximises the amount of zigzag edges, or \"round\" which is an in-between.\n",
    "* **N** is the width of the GNRs, in number of atom layers. Allowed values are **N** $\\in[5, 80]$. Note that only metallic GNRs are considered, i.e. **N** $=3n+2$.\n",
    "* **wₑₓₜ** is the smoothening parameter and quantifies the amount of material removed. The larger **wₑₓₜ**, the more predominant **shape** will be."
   ]
  },
  {
   "cell_type": "code",
   "execution_count": 6,
   "metadata": {},
   "outputs": [
    {
     "data": {
      "application/vnd.jupyter.widget-view+json": {
       "model_id": "3f560ebd8e544a28a1056ba370dd9336",
       "version_major": 2,
       "version_minor": 0
      },
      "text/plain": [
       "interactive(children=(Dropdown(description='shape', layout=Layout(width='450px'), options=('armchair', 'round'…"
      ]
     },
     "metadata": {},
     "output_type": "display_data"
    }
   ],
   "source": [
    "# 'update_texts'\n",
    "shape.observe(update_texts, names='value')\n",
    "N.observe(update_texts, names='value')\n",
    "wext.observe(update_texts, names='value')\n",
    "\n",
    "# 'update_wext_max'\n",
    "N.observe(update_wext_max, names='value')\n",
    "wext.observe(update_N_min, names='value')\n",
    "\n",
    "# 'update_downloadbutton'\n",
    "shape.observe(update_downloadbutton, names='value')\n",
    "N.observe(update_downloadbutton, names='value')\n",
    "wext.observe(update_downloadbutton, names='value')\n",
    "\n",
    "# 'update_images'\n",
    "shape.observe(update_images, names='value')\n",
    "N.observe(update_images, names='value')\n",
    "wext.observe(update_images, names='value')\n",
    "\n",
    "# initialize all widgets\n",
    "update_texts(None)\n",
    "update_downloadbutton(None)\n",
    "update_wext_max(None)\n",
    "update_images(None)\n",
    "\n",
    "# display sliders\n",
    "display(widgets.interactive(update_image, shape=shape, N=N, r=wext))"
   ]
  },
  {
   "cell_type": "markdown",
   "metadata": {},
   "source": [
    "## Results\n",
    "\n",
    "The tool does provide the following graphical results:\n",
    "- **The junction's shape**, where the edges are highlighted in red or blue depending on if they are classified as \"armchair vertices\" or \"zigzag vertices\", respectively.\n",
    "- **The transmission plot**, where the transmission of the junction (red solid line) is plotted as a function of the energy. As a comparison, the transmission of the corresponding straight GNR (black dashed line) is also plotted.\n",
    "- **The local density of states (LDOS) plot**, where the circles' colors depend on the sublattice on which they are.\n",
    "- **The probability density current plot**. Note that for readability, only flows greater or equal to one tenth of the maximum flow are shown."
   ]
  },
  {
   "cell_type": "code",
   "execution_count": 7,
   "metadata": {},
   "outputs": [
    {
     "data": {
      "application/vnd.jupyter.widget-view+json": {
       "model_id": "cf83bd657cbb4e408b3de14baf433e29",
       "version_major": 2,
       "version_minor": 0
      },
      "text/plain": [
       "HBox(children=(HTML(value='<html>\\n    <head>\\n    <meta name=\"viewport\" content=\"width=100%; initial-scale=1;…"
      ]
     },
     "metadata": {},
     "output_type": "display_data"
    }
   ],
   "source": [
    "display(widgets.HBox([html_images]))"
   ]
  },
  {
   "cell_type": "markdown",
   "metadata": {},
   "source": [
    "It does also provide numerical results. Below you will find the following:\n",
    "\n",
    "- **Armchair ratio** is the ratio of armchair vertices over the total number of vertices which compose the edge.\n",
    "- **Zigzag ratio** is the ratio of zigzag vertices over the total number of vertices which compose the edge.\n",
    "- **$\\tau$ @ 0.00 eV** is the preserved conductance of the junction at exactly (up to numerical errors) 0.00 eV.\n",
    "- **$\\tau$ @ 0.01 eV** is the preserved conductance of the junction averaged over a 0.01 eV window around 0.00 eV.\n",
    "- **$\\tau$ @ 0.10 eV** is the preserved conductance of the junction averaged over a 0.10 eV window around 0.00 eV.\n",
    "\n",
    "$\\tau$ is the preserved conductance at or around a given energy, given by\n",
    "$$\n",
    "\\tau(E)=\\frac{\\int_{E-\\frac{1}{2}\\delta E}^{E+\\frac{1}{2}\\delta E}G(E')dE'}{\\int_{E-\\frac{1}{2}\\delta E}^{E+\\frac{1}{2}\\delta E}G_\\mathrm{lead}(E')dE'},\n",
    "$$\n",
    "where $\\delta E$ is the energy window, written here as \"$\\tau$ @ $\\delta E$\".\n",
    "\n",
    "Note that more detailed results can be downloaded below."
   ]
  },
  {
   "cell_type": "code",
   "execution_count": 8,
   "metadata": {},
   "outputs": [
    {
     "data": {
      "application/vnd.jupyter.widget-view+json": {
       "model_id": "fbbb9ae2da9f408096ea88c08ea7fccf",
       "version_major": 2,
       "version_minor": 0
      },
      "text/plain": [
       "VBox(children=(Text(value='0.0%', description='Armchair ratio', layout=Layout(width='450px'), style=TextStyle(…"
      ]
     },
     "metadata": {},
     "output_type": "display_data"
    }
   ],
   "source": [
    "display(\n",
    "    widgets.VBox([\n",
    "        a_ratio,\n",
    "        z_ratio,\n",
    "        tau_around_0p00_ev,\n",
    "        tau_around_0p01_ev,\n",
    "        tau_around_0p10_ev,\n",
    "    ]),\n",
    ")"
   ]
  },
  {
   "attachments": {},
   "cell_type": "markdown",
   "metadata": {},
   "source": [
    "## Download\n",
    "\n",
    "Here you can download more detailed informations about the currently selected junction. The files and the informations they contain are described below.\n",
    "\n",
    "**Summary** contains the following informations:\n",
    "- `shape`: a string either \"armchair\", \"zigzag\" or \"round\".\n",
    "- `N`: an integer between 20 and 80, corresponding to the width of the GNRs.\n",
    "- `wext`: an integer corresponding to the smoothening parameter.\n",
    "- `tau_around_0p00_ev`: a float corresponding to the preserved conductance in [$G_0$] at 0.00 eV.\n",
    "- `tau_around_0p01_ev`: a float corresponding to the preserved conductance in [$G_0$] averaged within a 0.01 eV window around 0.00 eV.\n",
    "- `tau_around_0p10_ev`: a float corresponding to the preserved conductance in [$G_0$] averaged within a 0.10 eV window around 0.00 eV.\n",
    "- `edge_length`: an integer corresponding to the total length of the junction's edges.\n",
    "- `edge_sequence`: a string made of \"A\"s, \"Z\"s and \"X\"s, corresponding to the edge structure.\n",
    "- `armchair_ratio`: a float corresponding to the ratio of armchair edges in the edge.\n",
    "- `zigzag_ratio`: a float corresponding to the ratio of zigzag edges in the edge.\n",
    "- `other_ratio`: a float corresponding to the ratio of other types of edges in the edge.\n",
    "\n",
    "**Conductance** contains the following informations:\n",
    "- `energy`: a list of floats between -0.1 and 0.1, corresponding to energies in [$\\mathrm{eV}$].\n",
    "- `conductance_lead`: a list of floats, corresponding to the conductance in [$G_0$] of the leads at the corresponding energies.\n",
    "- `conductance_junction`: a list of floats, corresponding to the conductance in [$G_0$] of the junction at the corresponding energies.\n",
    "\n",
    "**Vertices** contains the following informations:\n",
    "- `vertex_index`: a list of integers, corresponding to the indices of the vertices. Note that these indices are related to the ones in the file **Edges**.\n",
    "- `vertex_x`: a list of floats, corresponding to the $x$ positions of the vertices in [$\\sqrt{3}a$].\n",
    "- `vertex_y`: a list of floats, corresponding to the $y$ positions of the vertices in [$a$].\n",
    "- `ldos`: a list of floats, corresponding to the local density of states at the given vertices.\n",
    "\n",
    "**Edges** contains the following informations:\n",
    "- `edge_index`: a list of integers, corresponding to the indices of the edges\n",
    "- `vertex_1_index`: a list of integers, corresponding to the indices of the first vertex of the edges\n",
    "- `vertex_2_index`: a list of integers, corresponding to the indices of the second vertex of the edges\n",
    "- `current`: a list of floats, corresponding to the probability current in [$G_0$] flowing through the edges. Note that if the current is negative, it means that the current is flowing from vertex 2 to vertex 1."
   ]
  },
  {
   "cell_type": "code",
   "execution_count": 9,
   "metadata": {},
   "outputs": [
    {
     "data": {
      "application/vnd.jupyter.widget-view+json": {
       "model_id": "87d70538ed6b4aeab8c6b5274c3b61ec",
       "version_major": 2,
       "version_minor": 0
      },
      "text/plain": [
       "VBox(children=(HTML(value='<html>\\n    <head>\\n    <meta name=\"viewport\" content=\"width=device-width, initial-…"
      ]
     },
     "metadata": {},
     "output_type": "display_data"
    }
   ],
   "source": [
    "display(\n",
    "    widgets.VBox([\n",
    "        html_button_summary,\n",
    "        html_button_conductance,\n",
    "        html_button_vertices,\n",
    "        html_button_edges,\n",
    "    ]))"
   ]
  }
 ],
 "metadata": {
  "kernelspec": {
   "display_name": "base",
   "language": "python",
   "name": "python3"
  },
  "language_info": {
   "codemirror_mode": {
    "name": "ipython",
    "version": 3
   },
   "file_extension": ".py",
   "mimetype": "text/x-python",
   "name": "python",
   "nbconvert_exporter": "python",
   "pygments_lexer": "ipython3",
   "version": "3.10.11"
  }
 },
 "nbformat": 4,
 "nbformat_minor": 4
}
