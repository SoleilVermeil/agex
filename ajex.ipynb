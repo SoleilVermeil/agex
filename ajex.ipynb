{
 "cells": [
  {
   "cell_type": "code",
   "execution_count": 8,
   "metadata": {},
   "outputs": [],
   "source": [
    "import voila\n",
    "import numpy as np\n",
    "import matplotlib as mpl\n",
    "import ipywidgets as widgets\n",
    "import matplotlib.pyplot as plt\n",
    "from IPython.display import display\n",
    "import json\n",
    "import base64"
   ]
  },
  {
   "attachments": {},
   "cell_type": "markdown",
   "metadata": {},
   "source": [
    "# Armchair Graphene Nanoribbon Junctions Explorer\n",
    "\n",
    "Select the parameters of the junction you want to investigate. For every junction, you can download files containing all the informations about it by clicking on the button at the bottom of the page. If you use this tool, please cite the following works:\n",
    "\n",
    "**J. Leuenberger, K. Cernevics, O. V. Yazyev, Optimizing Graphene-Based Nanoelectronics via Junction Edge Characterization**\n",
    "\n",
    "\n",
    "**J. Leuenberger, K. Cernevics, O. V. Yazyev, Armchair Graphene Nanoribbon Junctions Explorer**"
   ]
  },
  {
   "cell_type": "code",
   "execution_count": 9,
   "metadata": {},
   "outputs": [],
   "source": [
    "def get_r_max(N_value):\n",
    "    security = 1\n",
    "    return np.floor(N_value / 2) - 1 - security"
   ]
  },
  {
   "cell_type": "code",
   "execution_count": 10,
   "metadata": {},
   "outputs": [],
   "source": [
    "shape = widgets.Dropdown(options=['armchair', 'round', 'zigzag'], value='armchair', description='Shape')\n",
    "N = widgets.IntSlider(min=20, max=80, step=3, description=\"N\")\n",
    "wext = widgets.IntSlider(min=0, max=get_r_max(N.value), step=1, description=\"wext\")\n",
    "a_ratio = widgets.FloatText(value=-1, description='A. ratio', disabled=True)\n",
    "z_ratio = widgets.FloatText(value=-1, description='Z. ratio', disabled=True)\n",
    "tau_around_0p00_ev = widgets.FloatText(value=-1, description='τ @ 0.00 eV', disabled=True)\n",
    "tau_around_0p01_ev = widgets.FloatText(value=-1, description='τ @ 0.01 eV', disabled=True)\n",
    "tau_around_0p10_ev = widgets.FloatText(value=-1, description='τ @ 0.10 eV', disabled=True)\n",
    "\n",
    "html_button_resume = widgets.HTML(value=\"\"\"<html>\n",
    "<head>\n",
    "<meta name=\"viewport\" content=\"width=device-width, initial-scale=1\">\n",
    "</head>\n",
    "<body>\n",
    "<a download=\"\" href=\"data:text/json;base64,\" download>\n",
    "<button class=\"p-Widget jupyter-widgets jupyter-button widget-button\">-</button>\n",
    "</a>\n",
    "</body>\n",
    "</html>\n",
    "\"\"\")\n",
    "\n",
    "html_button_conductance = widgets.HTML(value=\"\"\"<html>\n",
    "<head>\n",
    "<meta name=\"viewport\" content=\"width=device-width, initial-scale=1\">\n",
    "</head>\n",
    "<body>\n",
    "<a download=\"\" href=\"data:text/json;base64,\" download>\n",
    "<button class=\"p-Widget jupyter-widgets jupyter-button widget-button\">-</button>\n",
    "</a>\n",
    "</body>\n",
    "</html>\n",
    "\"\"\")\n",
    "\n",
    "html_button_vertices = widgets.HTML(value=\"\"\"<html>\n",
    "<head>\n",
    "<meta name=\"viewport\" content=\"width=device-width, initial-scale=1\">\n",
    "</head>\n",
    "<body>\n",
    "<a download=\"\" href=\"data:text/json;base64,\" download>\n",
    "<button class=\"p-Widget jupyter-widgets jupyter-button widget-button\">-</button>\n",
    "</a>\n",
    "</body>\n",
    "</html>\n",
    "\"\"\")\n",
    "\n",
    "\n",
    "html_button_edges = widgets.HTML(value=\"\"\"<html>\n",
    "<head>\n",
    "<meta name=\"viewport\" content=\"width=device-width, initial-scale=1\">\n",
    "</head>\n",
    "<body>\n",
    "<a download=\"\" href=\"data:text/json;base64,\" download>\n",
    "<button class=\"p-Widget jupyter-widgets jupyter-button widget-button\">-</button>\n",
    "</a>\n",
    "</body>\n",
    "</html>\n",
    "\"\"\")"
   ]
  },
  {
   "cell_type": "code",
   "execution_count": 11,
   "metadata": {},
   "outputs": [],
   "source": [
    "def update_image(shape, N, r):\n",
    "    fig, axs = plt.subplots(ncols=4, nrows=1, figsize=(10, 5))\n",
    "    try:\n",
    "        axs[0].imshow(mpl.image.imread(f\"./data/shape={shape}/N={N}/wext={r}/edge.png\"))\n",
    "        axs[1].imshow(mpl.image.imread(f\"./data/shape={shape}/N={N}/wext={r}/conductance.png\"))\n",
    "        axs[2].imshow(mpl.image.imread(f\"./data/shape={shape}/N={N}/wext={r}/ldos.png\"))\n",
    "        axs[3].imshow(mpl.image.imread(f\"./data/shape={shape}/N={N}/wext={r}/current.png\"))\n",
    "        for ax in axs.ravel():\n",
    "            ax.axis(\"off\")\n",
    "        fig.tight_layout()\n",
    "    except Exception as e:\n",
    "        # print(e)\n",
    "        # plt.close()\n",
    "        # print(f\"Missing data !\")\n",
    "        pass\n",
    "    \n",
    "def update_r_max(*args):\n",
    "    r_current = wext.value\n",
    "    r_max = get_r_max(N.value)\n",
    "    if r_current > r_max:\n",
    "        wext.value = r_max\n",
    "    wext.max = r_max\n",
    "\n",
    "def update_texts(change):\n",
    "    try:\n",
    "        infos = json.load(open(f\"./data/shape={shape.value}/N={N.value}/wext={wext.value}/summary.json\"))\n",
    "        a_ratio.value = infos[\"armchair_ratio\"]\n",
    "        z_ratio.value = infos[\"zigzag_ratio\"]\n",
    "        tau_around_0p00_ev.value = infos[\"tau_around_0p00_ev\"]\n",
    "        tau_around_0p01_ev.value = infos[\"tau_around_0p01_ev\"]\n",
    "        tau_around_0p10_ev.value = infos[\"tau_around_0p10_ev\"]\n",
    "    except Exception as e:\n",
    "        #print(e)\n",
    "        pass\n",
    "\n",
    "def update_downloadbutton(*args):\n",
    "    \n",
    "    base_html = \"\"\"<html>\n",
    "    <head>\n",
    "    <meta name=\"viewport\" content=\"width=device-width, initial-scale=1\">\n",
    "    </head>\n",
    "    <body>\n",
    "    <a download=\"FILENAME\" href=\"data:text/json;base64,PAYLOAD\" download>\n",
    "    <button class=\"p-Widget jupyter-widgets jupyter-button widget-button\">TEXT</button>\n",
    "    </a>\n",
    "    </body>\n",
    "    </html>\"\"\"\n",
    "\n",
    "    res = open(f\"./data/shape={shape.value}/N={N.value}/wext={wext.value}/summary.json\").read()\n",
    "    b64 = base64.b64encode(res.encode())\n",
    "    payload = b64.decode().replace(\"\\\"\", \"`\")\n",
    "    filename = f\"summary_shape={shape.value}_N={N.value}_wext={wext.value}.json\"\n",
    "    html_button_resume.value = base_html.replace(\"FILENAME\", filename).replace(\"PAYLOAD\", payload).replace(\"TEXT\", f\"Summary\") # ({sys.getsizeof(payload)/1024:.1f} ko)\")\n",
    "\n",
    "    res = open(f\"./data/shape={shape.value}/N={N.value}/wext={wext.value}/conductance.csv\").read()\n",
    "    b64 = base64.b64encode(res.encode())\n",
    "    payload = b64.decode().replace(\"\\\"\", \"`\")\n",
    "    filename = f\"conductance_shape={shape.value}_N={N.value}_wext={wext.value}.csv\"\n",
    "    html_button_conductance.value = base_html.replace(\"FILENAME\", filename).replace(\"PAYLOAD\", payload).replace(\"TEXT\", f\"Conductance\") # ({sys.getsizeof(payload)/1024:.1f} ko)\")\n",
    "\n",
    "    res = open(f\"./data/shape={shape.value}/N={N.value}/wext={wext.value}/vertices.csv\").read()\n",
    "    b64 = base64.b64encode(res.encode())\n",
    "    payload = b64.decode().replace(\"\\\"\", \"`\")\n",
    "    filename = f\"vertices_shape={shape.value}_N={N.value}_wext={wext.value}.csv\"\n",
    "    html_button_vertices.value = base_html.replace(\"FILENAME\", filename).replace(\"PAYLOAD\", payload).replace(\"TEXT\", f\"Vertices\") # ({sys.getsizeof(payload)/1024:.1f} ko)\")\n",
    "\n",
    "    res = open(f\"./data/shape={shape.value}/N={N.value}/wext={wext.value}/edges.csv\").read()\n",
    "    b64 = base64.b64encode(res.encode())\n",
    "    payload = b64.decode().replace(\"\\\"\", \"`\")\n",
    "    filename = f\"edges_shape={shape.value}_N={N.value}_wext={wext.value}.csv\"\n",
    "    html_button_edges.value = base_html.replace(\"FILENAME\", filename).replace(\"PAYLOAD\", payload).replace(\"TEXT\", f\"Edges\") # ({sys.getsizeof(payload)/1024:.1f} ko)\")\n"
   ]
  },
  {
   "attachments": {},
   "cell_type": "markdown",
   "metadata": {},
   "source": [
    "## Inputs\n",
    "\n",
    "Here you can select the parameters of the junction you want to investigate. Note that the maximum amount of roundening $w_\\mathrm{ext}$ does depend on the value of $N$."
   ]
  },
  {
   "cell_type": "code",
   "execution_count": 12,
   "metadata": {},
   "outputs": [
    {
     "data": {
      "application/vnd.jupyter.widget-view+json": {
       "model_id": "fd1f9dfd8a9e42c68169c6c52d9bf697",
       "version_major": 2,
       "version_minor": 0
      },
      "text/plain": [
       "interactive(children=(Dropdown(description='Shape', options=('armchair', 'round', 'zigzag'), value='armchair')…"
      ]
     },
     "metadata": {},
     "output_type": "display_data"
    }
   ],
   "source": [
    "shape.observe(update_texts, names='value')\n",
    "N.observe(update_texts, names='value')\n",
    "wext.observe(update_texts, names='value')\n",
    "\n",
    "N.observe(update_r_max, names='value')\n",
    "\n",
    "shape.observe(update_downloadbutton, names='value')\n",
    "N.observe(update_downloadbutton, names='value')\n",
    "wext.observe(update_downloadbutton, names='value')\n",
    "\n",
    "display(widgets.interactive(update_image, shape=shape, N=N, r=wext))"
   ]
  },
  {
   "attachments": {},
   "cell_type": "markdown",
   "metadata": {},
   "source": [
    "## Outputs\n",
    "\n",
    "Here you can retrieve some informations about the junction. Note that all data displayed here can be downloaded as well below."
   ]
  },
  {
   "cell_type": "code",
   "execution_count": 13,
   "metadata": {},
   "outputs": [
    {
     "data": {
      "application/vnd.jupyter.widget-view+json": {
       "model_id": "5ca126a398d04250a844111646c5e3a1",
       "version_major": 2,
       "version_minor": 0
      },
      "text/plain": [
       "VBox(children=(FloatText(value=-1.0, description='A. ratio', disabled=True), FloatText(value=-1.0, description…"
      ]
     },
     "metadata": {},
     "output_type": "display_data"
    }
   ],
   "source": [
    "display(\n",
    "    widgets.VBox([\n",
    "        a_ratio,\n",
    "        z_ratio,\n",
    "        tau_around_0p00_ev,\n",
    "        tau_around_0p01_ev,\n",
    "        tau_around_0p10_ev,\n",
    "    ]),\n",
    ")"
   ]
  },
  {
   "attachments": {},
   "cell_type": "markdown",
   "metadata": {},
   "source": [
    "## Download\n",
    "\n",
    "Here you can download informations about the junction.\n",
    "* **Summary** contains informations about the junction's geometry and its preserved conductance.\n",
    "* **Conductance** contains the conductance [$G_0$] of the junction at different energies [$\\mathrm{eV}$].\n",
    "* **Vertices** contains a list of the junction's vertices' positions [$a$], as well as the local density of states (LDOS) at each of them.\n",
    "* **Edges** contains a list of the junction's edges, as well as the probability currents flowing at each of them."
   ]
  },
  {
   "cell_type": "code",
   "execution_count": 14,
   "metadata": {},
   "outputs": [
    {
     "data": {
      "application/vnd.jupyter.widget-view+json": {
       "model_id": "bf26930c325d40c9989a059f81c3465a",
       "version_major": 2,
       "version_minor": 0
      },
      "text/plain": [
       "HBox(children=(HTML(value='<html>\\n<head>\\n<meta name=\"viewport\" content=\"width=device-width, initial-scale=1\"…"
      ]
     },
     "metadata": {},
     "output_type": "display_data"
    }
   ],
   "source": [
    "display(\n",
    "    widgets.HBox([\n",
    "    html_button_resume,\n",
    "    html_button_conductance,\n",
    "    html_button_vertices,\n",
    "    html_button_edges,\n",
    "    ]))"
   ]
  }
 ],
 "metadata": {
  "kernelspec": {
   "display_name": "base",
   "language": "python",
   "name": "python3"
  },
  "language_info": {
   "codemirror_mode": {
    "name": "ipython",
    "version": 3
   },
   "file_extension": ".py",
   "mimetype": "text/x-python",
   "name": "python",
   "nbconvert_exporter": "python",
   "pygments_lexer": "ipython3",
   "version": "3.9.13"
  }
 },
 "nbformat": 4,
 "nbformat_minor": 4
}
