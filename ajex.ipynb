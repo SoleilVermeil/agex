{
 "cells": [
  {
   "cell_type": "code",
   "execution_count": 1,
   "metadata": {},
   "outputs": [],
   "source": [
    "import numpy as np\n",
    "import matplotlib as mpl\n",
    "import ipywidgets as widgets\n",
    "import matplotlib.pyplot as plt\n",
    "from IPython.display import display"
   ]
  },
  {
   "cell_type": "code",
   "execution_count": 4,
   "metadata": {},
   "outputs": [
    {
     "data": {
      "application/vnd.jupyter.widget-view+json": {
       "model_id": "2e09626d3344410291fcd0c547958b58",
       "version_major": 2,
       "version_minor": 0
      },
      "text/plain": [
       "VBox(children=(Label(value='Inputs'), interactive(children=(Dropdown(description='Shape', options=('armchair',…"
      ]
     },
     "metadata": {},
     "output_type": "display_data"
    },
    {
     "data": {
      "application/vnd.jupyter.widget-view+json": {
       "model_id": "482848ca9f45404f9c1eb56bd37c9589",
       "version_major": 2,
       "version_minor": 0
      },
      "text/plain": [
       "VBox(children=(Label(value='Outputs'), FloatText(value=-1.0, description='A. ratio'), FloatText(value=-1.0, de…"
      ]
     },
     "metadata": {},
     "output_type": "display_data"
    }
   ],
   "source": [
    "def update_image(shape, N, r):\n",
    "    fig, axs = plt.subplots(ncols=4, nrows=1, figsize=(10, 5))\n",
    "    w = 0\n",
    "    r_frac = \".67\"\n",
    "    if shape == \"round\":\n",
    "        r_frac = \".00\"\n",
    "        # r += 2\n",
    "    try:\n",
    "        axs[0].imshow(mpl.image.imread(f\"./data/{shape}/N={N}/wext={r}/edge.png\"))\n",
    "        axs[1].imshow(mpl.image.imread(f\"./data/{shape}/N={N}/wext={r}/conductance.png\"))\n",
    "        axs[2].imshow(mpl.image.imread(f\"./data/{shape}/N={N}/wext={r}/ldos.png\"))\n",
    "        axs[3].imshow(mpl.image.imread(f\"./data/{shape}/N={N}/wext={r}/current.png\"))\n",
    "        for ax in axs.ravel():\n",
    "            ax.axis(\"off\")\n",
    "        fig.tight_layout()\n",
    "    except Exception as e:\n",
    "        print(e)\n",
    "        plt.close()\n",
    "        print(f\"Missing data !\")\n",
    "\n",
    "def get_r_max(N_value):\n",
    "    security = 1\n",
    "    return np.floor(N_value / 2) - 1 - security\n",
    "\n",
    "def update_r_max(*args):\n",
    "    r_current = r.value\n",
    "    r_max = get_r_max(N.value)\n",
    "    if r_current > r_max:\n",
    "        r.value = 0\n",
    "    r.max = r_max\n",
    "\n",
    "\n",
    "shape = widgets.Dropdown(options=['armchair', 'round', 'zigzag'], value='armchair', description='Shape')\n",
    "N = widgets.IntSlider(min=20, max=80, step=3, description=\"N\")\n",
    "r = widgets.IntSlider(min=0, max=get_r_max(N.value), step=1, description=\"w ext\")\n",
    "a_ratio = widgets.FloatText(value=-1, description='A. ratio')\n",
    "z_ratio = widgets.FloatText(value=-1, description='Z. ratio')\n",
    "tau_around_0p00_ev = widgets.FloatText(value=-1, description='τ @ 0.00 eV')\n",
    "tau_around_0p01_ev = widgets.FloatText(value=-1, description='τ @ 0.01 eV')\n",
    "tau_around_0p10_ev = widgets.FloatText(value=-1, description='τ @ 0.10 eV')\n",
    "\n",
    "def update_texts(change):\n",
    "    try:\n",
    "        file = open(f\"conductances/cond_shape={shape.value}_N={N.value}_w=0_r={r.value}.67.txt\", \"r\")\n",
    "        for line in file:\n",
    "            if \"armchair_ratio=\" in line: a_ratio.value = line.replace(\"armchair_ratio=\", \"\")\n",
    "            if \"zigzag_ratio=\" in line: z_ratio.value = line.replace(\"zigzag_ratio=\", \"\")\n",
    "            if \"tau_around_0p00_ev=\" in line: tau_around_0p00_ev.value = line.replace(\"tau_around_0p00_ev=\", \"\")\n",
    "            if \"tau_around_0p01_ev=\" in line: tau_around_0p01_ev.value = line.replace(\"tau_around_0p01_ev=\", \"\")\n",
    "            if \"tau_around_0p10_ev=\" in line: tau_around_0p10_ev.value = line.replace(\"tau_around_0p10_ev=\", \"\")\n",
    "    except:\n",
    "        pass\n",
    "    \n",
    "    \n",
    "\n",
    "\n",
    "shape.observe(update_texts, names='value')\n",
    "N.observe(update_texts, names='value')\n",
    "N.observe(update_r_max, names='value')\n",
    "r.observe(update_texts, names='value')\n",
    "\n",
    "\n",
    "\n",
    "# display(a_ratio)\n",
    "# display(z_ratio)\n",
    "# display(tau_around_0p00_ev)\n",
    "# display(tau_around_0p01_ev)\n",
    "# display(tau_around_0p10_ev)\n",
    "# display(widgets.interactive(update_image, shape=shape, N=N, r=r))\n",
    "display(\n",
    "    widgets.VBox([\n",
    "        widgets.Label(\"Inputs\"),\n",
    "        widgets.interactive(update_image, shape=shape, N=N, r=r),\n",
    "    ]),\n",
    "    widgets.VBox([\n",
    "        widgets.Label(\"Outputs\"),\n",
    "        a_ratio,\n",
    "        z_ratio,\n",
    "        tau_around_0p00_ev,\n",
    "        tau_around_0p01_ev,\n",
    "        tau_around_0p10_ev,\n",
    "    ]),\n",
    ")"
   ]
  },
  {
   "cell_type": "code",
   "execution_count": null,
   "metadata": {},
   "outputs": [],
   "source": []
  }
 ],
 "metadata": {
  "kernelspec": {
   "display_name": "base",
   "language": "python",
   "name": "python3"
  },
  "language_info": {
   "codemirror_mode": {
    "name": "ipython",
    "version": 3
   },
   "file_extension": ".py",
   "mimetype": "text/x-python",
   "name": "python",
   "nbconvert_exporter": "python",
   "pygments_lexer": "ipython3",
   "version": "3.9.13"
  }
 },
 "nbformat": 4,
 "nbformat_minor": 4
}
